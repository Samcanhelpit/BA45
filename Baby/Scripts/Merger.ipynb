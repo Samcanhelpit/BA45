{
 "cells": [
  {
   "cell_type": "code",
   "execution_count": 6,
   "metadata": {},
   "outputs": [
    {
     "name": "stdout",
     "output_type": "stream",
     "text": [
      "Columns in df1: Index(['Timestamp', 'program', 'gender', 'AGE', 'HEIGHT', 'WEIGHT',\n",
      "       'SALARY_OLD', 'SALARY_GRAD', 'DESIRE_WORK_ORG', 'PARENTS', 'EXPENSES',\n",
      "       'TRANSPORT', 'COST_TRANSPORTATION', 'COST_ENTERTAINMENT', 'HAND',\n",
      "       'CELL_PHONE', 'SMOKE', 'foot_size', 'alcohol', 'tattoo', 'sleep',\n",
      "       'social', 'homework', 'work', 'travel', 'tuition', 'coffee', 'BMI'],\n",
      "      dtype='object')\n",
      "Columns in df2: Index(['program', 'place', 'hours'], dtype='object')\n",
      "\n",
      "Merged Data Preview:\n",
      "                      Timestamp program  gender   AGE  HEIGHT  WEIGHT  \\\n",
      "0  2019/02/04 11:26:35 am GMT-8    HRMG  female  22.0  177.80   110.0   \n",
      "1  2019/02/04 11:27:45 am GMT-8    HRMG  female  24.0  175.00    63.0   \n",
      "2  2019/02/04 11:27:46 am GMT-8    HRMG    male  24.0  182.88   100.0   \n",
      "3  2019/02/04 11:29:06 am GMT-8    HRMG  female  34.0    5.00    61.3   \n",
      "4  2019/02/04 11:29:12 am GMT-8    HRMG  female  24.0  160.00    54.0   \n",
      "\n",
      "   SALARY_OLD  SALARY_GRAD                     DESIRE_WORK_ORG  PARENTS  ...  \\\n",
      "0      1400.0       4000.0  3. NON-PROFIT OR GOVERNMENT AGENCY    False  ...   \n",
      "1      2000.0       3750.0                    2. SMALL COMPANY     True  ...   \n",
      "2      2000.0       3500.0                    2. SMALL COMPANY     True  ...   \n",
      "3      2500.0       3500.0                1. LARGE CORPORATION     True  ...   \n",
      "4         0.0       3800.0                    2. SMALL COMPANY     True  ...   \n",
      "\n",
      "   sleep social  homework  work travel  tuition  coffee       BMI    place  \\\n",
      "0    8.0   10.0      10.0   0.0   True    False     0.0     34.80  Burnaby   \n",
      "1    8.0    7.0      20.0   0.0   True     True     2.0     20.57  Burnaby   \n",
      "2    6.0   20.0      20.0   8.0   True    False     0.0     29.90  Burnaby   \n",
      "3    7.0   14.0      20.0   0.0   True    False     1.0  24520.00  Burnaby   \n",
      "4    6.0    6.0      11.0   0.0   True     True     1.0     21.09  Burnaby   \n",
      "\n",
      "   hours  \n",
      "0    300  \n",
      "1    300  \n",
      "2    300  \n",
      "3    300  \n",
      "4    300  \n",
      "\n",
      "[5 rows x 30 columns]\n",
      "Merge successful! Saved as '..\\Data\\Merged_Data.csv'\n"
     ]
    }
   ],
   "source": [
    "import pandas as pd\n",
    "import os\n",
    "\n",
    "# Define relative file paths (moving up one level from \"Scripts/\")\n",
    "file1 = os.path.join(\"..\", \"Cleaned Data\", \"Samuel_2025-02-23.csv\")\n",
    "file2 = os.path.join(\"..\", \"Data\", \"BCIT.csv\")\n",
    "output_file = os.path.join(\"..\", \"Data\", \"Merged_Data.csv\")  # Save in Data folder\n",
    "\n",
    "# Check if files exist before proceeding\n",
    "if not os.path.exists(file1) or not os.path.exists(file2):\n",
    "    print(\"Error: One or both files not found. Please check the file paths.\")\n",
    "else:\n",
    "    # Read the CSV files\n",
    "    df1 = pd.read_csv(file1, encoding=\"utf-8\")\n",
    "    df2 = pd.read_csv(file2, encoding=\"utf-8\")\n",
    "\n",
    "    # Debug: Print column names\n",
    "    print(\"Columns in df1:\", df1.columns)\n",
    "    print(\"Columns in df2:\", df2.columns)\n",
    "\n",
    "    # Ensure \"program\" column exists and has the same name in both files\n",
    "    df1.rename(columns={\"Program\": \"program\"}, inplace=True)\n",
    "    df2.rename(columns={\"Program\": \"program\"}, inplace=True)\n",
    "\n",
    "    # Convert \"program\" to string type and strip whitespace\n",
    "    df1[\"program\"] = df1[\"program\"].astype(str).str.strip()\n",
    "    df2[\"program\"] = df2[\"program\"].astype(str).str.strip()\n",
    "\n",
    "    # Merge the dataframes on 'program' (inner join)\n",
    "    merged_df = pd.merge(df1, df2, on=\"program\", how=\"inner\")\n",
    "\n",
    "    # Display merged dataframe\n",
    "    print(\"\\nMerged Data Preview:\")\n",
    "    print(merged_df.head())  # Show first few rows\n",
    "\n",
    "    # Ensure Data folder exists before saving\n",
    "    os.makedirs(os.path.dirname(output_file), exist_ok=True)\n",
    "    \n",
    "    # Save the merged file in the \"Data\" folder\n",
    "    merged_df.to_csv(output_file, index=False)\n",
    "\n",
    "    print(f\"Merge successful! Saved as '{output_file}'\")\n"
   ]
  },
  {
   "cell_type": "markdown",
   "metadata": {},
   "source": [
    "## I chose an inner join to ensure that only matching values in both datasets are joined, therefore achieved a result of no NA values are created sue to join."
   ]
  }
 ],
 "metadata": {
  "kernelspec": {
   "display_name": "Python 3",
   "language": "python",
   "name": "python3"
  },
  "language_info": {
   "codemirror_mode": {
    "name": "ipython",
    "version": 3
   },
   "file_extension": ".py",
   "mimetype": "text/x-python",
   "name": "python",
   "nbconvert_exporter": "python",
   "pygments_lexer": "ipython3",
   "version": "3.13.1"
  }
 },
 "nbformat": 4,
 "nbformat_minor": 2
}
