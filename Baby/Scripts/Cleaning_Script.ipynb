{
 "cells": [
  {
   "cell_type": "markdown",
   "metadata": {},
   "source": [
    "# Amy's Code"
   ]
  },
  {
   "cell_type": "markdown",
   "metadata": {},
   "source": [
    "Thank you for providing templates to import libraries, import data, rename columns, apply, and inspect."
   ]
  },
  {
   "cell_type": "code",
   "execution_count": 1,
   "metadata": {},
   "outputs": [],
   "source": [
    "## all of our imports live here\n",
    "\n",
    "import pandas as pd\n",
    "pd.set_option(\"display.max_columns\", None)  # Show all columns\n",
    "import re ## this lets me do regular expression work.  googel regex for details\n",
    "import numpy as np\n",
    "import os\n",
    "from datetime import date\n"
   ]
  },
  {
   "cell_type": "code",
   "execution_count": 2,
   "metadata": {},
   "outputs": [],
   "source": [
    "## import the dataset:\n",
    "\n",
    "raw = pd.read_csv(\"../Data/Statistics_Survey2025.csv\")"
   ]
  },
  {
   "cell_type": "code",
   "execution_count": 3,
   "metadata": {},
   "outputs": [
    {
     "data": {
      "text/plain": [
       "Index(['Timestamp', 'What is your program?', 'What is your gender?',\n",
       "       'What is your AGE as of your last birthday?',\n",
       "       'What is your HEIGHT (to the nearest centimetre)?',\n",
       "       'What is your WEIGHT (to the nearest kilogram)?',\n",
       "       'What was your AVERAGE MONTHLY SALARY (to the nearest $100) at your last full time employment prior to enrolling at BCIT?',\n",
       "       'What MONTHLY SALARY (to the nearest $100) would you EXPECT if you were to seek employment immediately after obtaining your diploma?',\n",
       "       'After graduation, for which one of the following TYPES OF ORGANIZATION would you most prefer to work?',\n",
       "       'Do you LIVE WITH YOUR PARENTS? ',\n",
       "       'What are your MONTHLY EXPENSES for FOOD and LODGING?',\n",
       "       'What MODE of TRANSPORT do you use most often to get to and from BCIT?',\n",
       "       'What is your COST per MONTH for TRANSPORTATION to and from BCIT?',\n",
       "       'What is your COST per MONTH for ENTERTAINMENT?',\n",
       "       'Are you right-handed, Left-handed or ambidextrous?',\n",
       "       'What is your COST per MONTH for your CELL PHONE?',\n",
       "       'Do you SMOKE cigarettes? ', 'What is your foot size in INCHES?',\n",
       "       'How many alcoholic drinks do you have per week?',\n",
       "       'Do you have a tattoo?',\n",
       "       'On average, how many hours per night do you sleep?',\n",
       "       'How much time in hours do you spend each week on social netorking sites?',\n",
       "       'How many hours per week do you spend studying/doing homework?',\n",
       "       'How many hours a week are you working (part-time or full-time employment) outside of BCIT?',\n",
       "       'Have you traveled outside of North America?',\n",
       "       'Do you pay entirely for your own tuition?',\n",
       "       'How many cups of coffee do you drink on average each day?'],\n",
       "      dtype='object')"
      ]
     },
     "execution_count": 3,
     "metadata": {},
     "output_type": "execute_result"
    }
   ],
   "source": [
    "## Pull names!\n",
    "raw.columns"
   ]
  },
  {
   "cell_type": "code",
   "execution_count": 4,
   "metadata": {},
   "outputs": [],
   "source": [
    "## Renaming Columns\n",
    "new_names = ['Timestamp', 'program', 'gender',\n",
    "       'AGE',\n",
    "       'HEIGHT',\n",
    "       'WEIGHT',\n",
    "       'SALARY_OLD',\n",
    "       'SALARY_GRAD',\n",
    "       'DESIRE_WORK_ORG',\n",
    "       'PARENTS',\n",
    "       'EXPENSES',\n",
    "       'TRANSPORT',\n",
    "       'COST_TRANSPORTATION',\n",
    "       'COST_ENTERTAINMENT',\n",
    "       'HAND',\n",
    "       'CELL_PHONE',\n",
    "       'SMOKE', \n",
    "       'foot_size',\n",
    "       'alcohol',\n",
    "       'tattoo',\n",
    "       'sleep',\n",
    "       'social',\n",
    "       'homework',\n",
    "       'work',\n",
    "       'travel',\n",
    "       'tuition',\n",
    "       'coffee']"
   ]
  },
  {
   "cell_type": "markdown",
   "metadata": {},
   "source": [
    "## Renamed Columns:"
   ]
  },
  {
   "cell_type": "code",
   "execution_count": 5,
   "metadata": {},
   "outputs": [
    {
     "data": {
      "text/plain": [
       "Index(['Timestamp', 'program', 'gender', 'AGE', 'HEIGHT', 'WEIGHT',\n",
       "       'SALARY_OLD', 'SALARY_GRAD', 'DESIRE_WORK_ORG', 'PARENTS', 'EXPENSES',\n",
       "       'TRANSPORT', 'COST_TRANSPORTATION', 'COST_ENTERTAINMENT', 'HAND',\n",
       "       'CELL_PHONE', 'SMOKE', 'foot_size', 'alcohol', 'tattoo', 'sleep',\n",
       "       'social', 'homework', 'work', 'travel', 'tuition', 'coffee'],\n",
       "      dtype='object')"
      ]
     },
     "execution_count": 5,
     "metadata": {},
     "output_type": "execute_result"
    }
   ],
   "source": [
    "## make a new dataframe\n",
    "Survey = raw\n",
    "\n",
    "## and rename it\n",
    "Survey.columns = new_names\n",
    "\n",
    "## inspect\n",
    "Survey.columns"
   ]
  },
  {
   "cell_type": "markdown",
   "metadata": {},
   "source": [
    "# My Code"
   ]
  },
  {
   "cell_type": "markdown",
   "metadata": {},
   "source": [
    "Idea by Samuel, code grammar reviewed and revised by ChatGPT."
   ]
  },
  {
   "cell_type": "markdown",
   "metadata": {},
   "source": [
    "## Cleaning"
   ]
  },
  {
   "cell_type": "markdown",
   "metadata": {},
   "source": [
    "### Cleaning Functions"
   ]
  },
  {
   "cell_type": "code",
   "execution_count": 6,
   "metadata": {},
   "outputs": [],
   "source": [
    "# Function to distinct column types, ie, numbers should be numbers and strings should be strings\n",
    "\n",
    "def keep_allnumbers(value):\n",
    "    \"\"\"\n",
    "        inspired by Amy Goldlist, revised by Samuel and ChatGPT\n",
    "        This function will:\n",
    "        - Ignores symbols like \"$\"\n",
    "        - Preserves parentheses and minus signs\n",
    "        - Converts:\n",
    "        - \"-$23\" → \"-23\"\n",
    "        - \"($23)\" → \"(23)\"\n",
    "        - \"-($23)\" → \"-(23)\"\n",
    "    \"\"\"\n",
    "    if isinstance(value, (int, float)): \n",
    "        return value\n",
    "    elif isinstance(value, str): \n",
    "        match = re.search(r\"-?\\(\\d*\\.?\\d+\\)|-?\\d*\\.?\\d+\", value)\n",
    "        if match:\n",
    "            extracted = match.group()\n",
    "            if extracted.startswith(\"-(\"):  # Convert \"-($23)\" → \"-(23)\"\n",
    "                return f\"-({extracted[2:-1]})\"\n",
    "            return extracted\n",
    "    return np.nan\n"
   ]
  },
  {
   "cell_type": "markdown",
   "metadata": {},
   "source": [
    "### Cleaning Steps"
   ]
  },
  {
   "cell_type": "markdown",
   "metadata": {},
   "source": [
    "#### 1. General Number Cleaning: Remove symbols, keep +/- and accounting deficit notation i.e. (11)"
   ]
  },
  {
   "cell_type": "code",
   "execution_count": 7,
   "metadata": {},
   "outputs": [],
   "source": [
    "Cleaned=Survey #create Cleaned df with org data\n",
    "\n",
    "#Clean org data and store to Cleaned\n",
    "Cleaned[\"AGE\"] = Survey[\"AGE\"].apply(keep_allnumbers)\n",
    "Cleaned[\"HEIGHT\"] = Survey[\"HEIGHT\"].apply(keep_allnumbers)\n",
    "Cleaned[\"WEIGHT\"] = Survey[\"WEIGHT\"].apply(keep_allnumbers)\n",
    "Cleaned[\"SALARY_OLD\"] = Survey[\"SALARY_OLD\"].apply(keep_allnumbers)\n",
    "Cleaned[\"SALARY_GRAD\"] = Survey[\"SALARY_GRAD\"].apply(keep_allnumbers)\n",
    "Cleaned[\"EXPENSES\"] = Survey[\"EXPENSES\"].apply(keep_allnumbers)\n",
    "Cleaned[\"COST_TRANSPORTATION\"] = Survey[\"COST_TRANSPORTATION\"].apply(keep_allnumbers)\n",
    "Cleaned[\"COST_ENTERTAINMENT\"] = Survey[\"COST_ENTERTAINMENT\"].apply(keep_allnumbers)\n",
    "Cleaned[\"CELL_PHONE\"] = Survey[\"CELL_PHONE\"].apply(keep_allnumbers)\n",
    "Cleaned[\"foot_size\"] = Survey[\"foot_size\"].apply(keep_allnumbers)\n",
    "Cleaned[\"alcohol\"] = Survey[\"alcohol\"].apply(keep_allnumbers)\n",
    "Cleaned[\"sleep\"] = Survey[\"sleep\"].apply(keep_allnumbers)\n",
    "Cleaned[\"social\"] = Survey[\"social\"].apply(keep_allnumbers)\n",
    "Cleaned[\"homework\"] = Survey[\"homework\"].apply(keep_allnumbers)\n",
    "Cleaned[\"work\"] = Survey[\"work\"].apply(keep_allnumbers)\n",
    "Cleaned[\"coffee\"] = Survey[\"coffee\"].apply(keep_allnumbers)\n"
   ]
  },
  {
   "cell_type": "markdown",
   "metadata": {},
   "source": [
    "No acccounting notation found in dataset, so no need for further cleaning"
   ]
  },
  {
   "cell_type": "markdown",
   "metadata": {},
   "source": [
    "#### 2. Custom Clean Category"
   ]
  },
  {
   "cell_type": "markdown",
   "metadata": {},
   "source": [
    "##### Function"
   ]
  },
  {
   "cell_type": "code",
   "execution_count": 8,
   "metadata": {},
   "outputs": [],
   "source": [
    "def clean_categories(column, case=\"upper\", mapping=None):\n",
    "    \"\"\"\n",
    "    Cleans categorical data by:\n",
    "    - Converting to string\n",
    "    - Stripping whitespace\n",
    "    - Changing case (default: lowercase)\n",
    "    - Replacing known variations using a mapping dictionary (if provided)\n",
    "\n",
    "    Parameters:\n",
    "    - column (pd.Series): The Pandas column to clean.\n",
    "    - case (str): \"lower\" (default), \"upper\", or \"title\" for case formatting.\n",
    "    - mapping (dict, optional): Dictionary to unify known variations.\n",
    "\n",
    "    Returns:\n",
    "    - pd.Series: The cleaned column.\n",
    "    \"\"\"\n",
    "    if column is None:\n",
    "        return None\n",
    "\n",
    "    # Ensure it's a string and strip spaces\n",
    "    column = column.astype(str).str.strip()\n",
    "\n",
    "    # Replace string representations of missing values with NaN\n",
    "    column = column.replace([\"NAN\", \"nan\", \"None\"], pd.NA)\n",
    "\n",
    "    # Convert case as needed\n",
    "    if case == \"lower\":\n",
    "        column = column.str.lower()\n",
    "    elif case == \"upper\":\n",
    "        column = column.str.upper()\n",
    "    elif case == \"title\":\n",
    "        column = column.str.title()  # Capitalizes first letter of each word\n",
    "    elif case == \"skip\":\n",
    "        pass\n",
    "\n",
    "    # Apply mapping if provided\n",
    "    if mapping:\n",
    "        column = column.replace(mapping)\n",
    "\n",
    "    return column\n",
    "\n",
    "def convert_yes_no(column):\n",
    "    \"\"\"\n",
    "    Converts 'Yes' to True, 'No' to False, and any other value to NaN.\n",
    "\n",
    "    Parameters:\n",
    "    - column (pd.Series): The Pandas column to clean.\n",
    "\n",
    "    Returns:\n",
    "    - pd.Series: Column with True, False, or NaN.\n",
    "    \"\"\"\n",
    "    return column.astype(str).str.strip().str.lower().map({\n",
    "        \"yes\": True,\n",
    "        \"no\": False\n",
    "    })\n"
   ]
  },
  {
   "cell_type": "markdown",
   "metadata": {},
   "source": [
    "#### 3. Apply cleaning with category mapping"
   ]
  },
  {
   "cell_type": "code",
   "execution_count": 9,
   "metadata": {},
   "outputs": [],
   "source": [
    "# Define category mappings\n",
    "program_mapping = {\n",
    "    \"MKTG\": \"MKTG\",\n",
    "    \"MARKETING\": \"MKTG\",\n",
    "    \"ITMG\" : \"BITMAN\",\n",
    "    \"EXCHANGE\" : pd.NA,\n",
    "    \"ITMG (RETAKING COURSES FOR GRADUATION)\" : pd.NA,\n",
    "    \"MARKETING MANAGEMENT\" : \"MKTG\",\n",
    "    \"MKTG2J\" : \"MKTG\",\n",
    "    \"MMGT\" : \"MKTG\",\n",
    "    \"MTKG\" : \"MKTG\"\n",
    "}\n",
    "\n",
    "#Non-binary will be Nan\n",
    "gender_mapping = {\n",
    "    \"prefer not to say\" : pd.NA,\n",
    "    \"gender apathetic\" : pd.NA,\n",
    "    \"non binary\" : pd.NA,\n",
    "    \"shakespearian cat\" : pd.NA,\n",
    "    \"<na>\" : pd.NA\n",
    "}\n",
    "\n",
    "transport_mapping = {\n",
    "    \"bus\": \"public transport\",\n",
    "    \"subway\": \"public transport\",\n",
    "    \"bike\": \"bicycle\",\n",
    "    \"walk\": \"walking\"\n",
    "}\n",
    "\n",
    "# Apply function to relevant columns\n",
    "Cleaned[\"program\"] = clean_categories(Cleaned[\"program\"], case=\"upper\", mapping=program_mapping)\n",
    "Cleaned[\"gender\"] = clean_categories(Cleaned[\"gender\"], case=\"lower\", mapping=gender_mapping)\n",
    "Cleaned[\"TRANSPORT\"] = clean_categories(Cleaned[\"TRANSPORT\"], mapping=transport_mapping)\n",
    "Cleaned[\"DESIRE_WORK_ORG\"] = clean_categories(Cleaned[\"DESIRE_WORK_ORG\"])\n",
    "Cleaned[\"HAND\"] = clean_categories(Cleaned[\"HAND\"])\n",
    "Cleaned[\"SMOKE\"] = convert_yes_no(Cleaned[\"SMOKE\"])\n",
    "Cleaned[\"PARENTS\"] = convert_yes_no(Cleaned[\"PARENTS\"])\n",
    "Cleaned[\"tattoo\"] = convert_yes_no(Cleaned[\"tattoo\"])\n",
    "Cleaned[\"travel\"] = convert_yes_no(Cleaned[\"travel\"])\n",
    "Cleaned[\"tuition\"] = convert_yes_no(Cleaned[\"tuition\"])\n"
   ]
  },
  {
   "cell_type": "markdown",
   "metadata": {},
   "source": [
    "#### 4. Cleaning Outliers"
   ]
  },
  {
   "cell_type": "code",
   "execution_count": 10,
   "metadata": {},
   "outputs": [],
   "source": [
    "# Function to clean outliers using IQR method\n",
    "def clean_outliers(df, columns):\n",
    "    \"\"\"\n",
    "    Removes outliers from specified columns using the Interquartile Range (IQR) method.\n",
    "    Outliers are defined as values below Q1 - 1.5 * IQR or above Q3 + 1.5 * IQR.\n",
    "    \n",
    "    Parameters:\n",
    "        df (pd.DataFrame): The DataFrame containing the data.\n",
    "        columns (list): List of column names to clean.\n",
    "\n",
    "    Returns:\n",
    "        pd.DataFrame: A new DataFrame with outliers replaced with NaN.\n",
    "    \"\"\"\n",
    "    df_cleaned = df.copy()\n",
    "    \n",
    "    for col in columns:\n",
    "        if col in df_cleaned.columns:\n",
    "            # Convert column to numeric (in case of string numbers)\n",
    "            df_cleaned[col] = pd.to_numeric(df_cleaned[col], errors='coerce')\n",
    "            \n",
    "            # Calculate Q1 (25th percentile) and Q3 (75th percentile)\n",
    "            Q1 = df_cleaned[col].quantile(0.25)\n",
    "            Q3 = df_cleaned[col].quantile(0.75)\n",
    "            IQR = Q3 - Q1\n",
    "            \n",
    "            # Define bounds for outliers\n",
    "            lower_bound = Q1 - 1.5 * IQR\n",
    "            upper_bound = Q3 + 1.5 * IQR\n",
    "            \n",
    "            # Replace outliers with NaN\n",
    "            df_cleaned[col] = df_cleaned[col].apply(lambda x: x if lower_bound <= x <= upper_bound else np.nan)\n",
    "    \n",
    "    return df_cleaned\n",
    "\n",
    "# Define columns to clean\n",
    "columns_to_clean = [\n",
    "    \"AGE\", \"HEIGHT\", \"WEIGHT\", \"SALARY_OLD\", \"SALARY_GRAD\", \"EXPENSES\",\n",
    "    \"COST_TRANSPORTATION\", \"COST_ENTERTAINMENT\", \"CELL_PHONE\", \"foot_size\",\n",
    "    \"alcohol\", \"sleep\", \"social\", \"homework\", \"work\", \"coffee\"\n",
    "]\n",
    "\n",
    "# Apply function to Cleaned dataset\n",
    "Cleaned = clean_outliers(Cleaned, columns_to_clean)\n"
   ]
  },
  {
   "cell_type": "markdown",
   "metadata": {},
   "source": [
    "#### 5. Remove Rows with null"
   ]
  },
  {
   "cell_type": "code",
   "execution_count": 11,
   "metadata": {},
   "outputs": [],
   "source": [
    "columns_to_clean = [\"AGE\", \"HEIGHT\", \"WEIGHT\", \"PARENTS\"]\n",
    "Cleaned = Survey.dropna(subset=columns_to_clean)"
   ]
  },
  {
   "cell_type": "markdown",
   "metadata": {},
   "source": [
    "### Calculating BMI"
   ]
  },
  {
   "cell_type": "code",
   "execution_count": 12,
   "metadata": {},
   "outputs": [
    {
     "name": "stderr",
     "output_type": "stream",
     "text": [
      "C:\\Users\\samue\\AppData\\Local\\Temp\\ipykernel_32260\\2631069795.py:19: SettingWithCopyWarning: \n",
      "A value is trying to be set on a copy of a slice from a DataFrame.\n",
      "Try using .loc[row_indexer,col_indexer] = value instead\n",
      "\n",
      "See the caveats in the documentation: https://pandas.pydata.org/pandas-docs/stable/user_guide/indexing.html#returning-a-view-versus-a-copy\n",
      "  Cleaned[\"BMI\"] = Cleaned.apply(lambda row: calculate_bmi(row[\"WEIGHT\"], row[\"HEIGHT\"]), axis=1)\n"
     ]
    },
    {
     "data": {
      "text/html": [
       "<div>\n",
       "<style scoped>\n",
       "    .dataframe tbody tr th:only-of-type {\n",
       "        vertical-align: middle;\n",
       "    }\n",
       "\n",
       "    .dataframe tbody tr th {\n",
       "        vertical-align: top;\n",
       "    }\n",
       "\n",
       "    .dataframe thead th {\n",
       "        text-align: right;\n",
       "    }\n",
       "</style>\n",
       "<table border=\"1\" class=\"dataframe\">\n",
       "  <thead>\n",
       "    <tr style=\"text-align: right;\">\n",
       "      <th></th>\n",
       "      <th>HEIGHT</th>\n",
       "      <th>WEIGHT</th>\n",
       "      <th>BMI</th>\n",
       "    </tr>\n",
       "  </thead>\n",
       "  <tbody>\n",
       "    <tr>\n",
       "      <th>0</th>\n",
       "      <td>177.8</td>\n",
       "      <td>110</td>\n",
       "      <td>34.80</td>\n",
       "    </tr>\n",
       "    <tr>\n",
       "      <th>1</th>\n",
       "      <td>175</td>\n",
       "      <td>63</td>\n",
       "      <td>20.57</td>\n",
       "    </tr>\n",
       "    <tr>\n",
       "      <th>2</th>\n",
       "      <td>182.88</td>\n",
       "      <td>100</td>\n",
       "      <td>29.90</td>\n",
       "    </tr>\n",
       "    <tr>\n",
       "      <th>3</th>\n",
       "      <td>5</td>\n",
       "      <td>61.3</td>\n",
       "      <td>24520.00</td>\n",
       "    </tr>\n",
       "    <tr>\n",
       "      <th>4</th>\n",
       "      <td>160</td>\n",
       "      <td>54</td>\n",
       "      <td>21.09</td>\n",
       "    </tr>\n",
       "  </tbody>\n",
       "</table>\n",
       "</div>"
      ],
      "text/plain": [
       "   HEIGHT WEIGHT       BMI\n",
       "0   177.8    110     34.80\n",
       "1     175     63     20.57\n",
       "2  182.88    100     29.90\n",
       "3       5   61.3  24520.00\n",
       "4     160     54     21.09"
      ]
     },
     "execution_count": 12,
     "metadata": {},
     "output_type": "execute_result"
    }
   ],
   "source": [
    "# Function to calculate BMI\n",
    "def calculate_bmi(weight, height):\n",
    "    \"\"\"\n",
    "    Calculates BMI using the formula:\n",
    "        BMI = weight (kg) / (height (m) ** 2)\n",
    "    Handles NaN values safely.\n",
    "    \"\"\"\n",
    "    try:\n",
    "        height_m = float(height) / 100  # Convert cm to meters\n",
    "        weight_kg = float(weight)\n",
    "        if height_m > 0 and weight_kg > 0:\n",
    "            return round(weight_kg / (height_m ** 2), 2)\n",
    "        else:\n",
    "            return np.nan  # Return NaN if values are invalid\n",
    "    except:\n",
    "        return np.nan  # Handle errors gracefully\n",
    "\n",
    "# Apply BMI calculation to dataset\n",
    "Cleaned[\"BMI\"] = Cleaned.apply(lambda row: calculate_bmi(row[\"WEIGHT\"], row[\"HEIGHT\"]), axis=1)\n",
    "\n",
    "# Inspect the new column\n",
    "Cleaned[[\"HEIGHT\", \"WEIGHT\", \"BMI\"]].head()\n"
   ]
  },
  {
   "cell_type": "markdown",
   "metadata": {},
   "source": [
    "### Remove rows that don't have program data"
   ]
  },
  {
   "cell_type": "code",
   "execution_count": 13,
   "metadata": {},
   "outputs": [],
   "source": [
    "Cleaned = Cleaned.dropna(subset=['program'])"
   ]
  },
  {
   "cell_type": "markdown",
   "metadata": {},
   "source": [
    "# Export code ideal by Samuel, fulfilled by ChatGPT"
   ]
  },
  {
   "cell_type": "code",
   "execution_count": 14,
   "metadata": {},
   "outputs": [
    {
     "name": "stdout",
     "output_type": "stream",
     "text": [
      "File saved to: c:\\repos\\BA45\\Baby\\Cleaned Data\\Samuel_2025-02-28.csv\n"
     ]
    }
   ],
   "source": [
    "# Get the current script's directory (Jupyter-safe method)\n",
    "script_dir = os.path.abspath(os.path.dirname(os.getcwd()))\n",
    "\n",
    "# Move up one level from 'Scripts' to 'Baby' and set the correct 'Cleaned Data' path\n",
    "output_folder = os.path.join(script_dir, \"Cleaned Data\")\n",
    "\n",
    "# Ensure the 'Cleaned Data' folder exists\n",
    "os.makedirs(output_folder, exist_ok=True)\n",
    "\n",
    "# Define the file name with the full path\n",
    "file_name = os.path.join(output_folder, \"Samuel_\" + date.today().isoformat() + \".csv\")\n",
    "\n",
    "# Save the file\n",
    "Cleaned.to_csv(file_name, index=False)\n",
    "\n",
    "print(f\"File saved to: {file_name}\")"
   ]
  }
 ],
 "metadata": {
  "kernelspec": {
   "display_name": "base",
   "language": "python",
   "name": "python3"
  },
  "language_info": {
   "codemirror_mode": {
    "name": "ipython",
    "version": 3
   },
   "file_extension": ".py",
   "mimetype": "text/x-python",
   "name": "python",
   "nbconvert_exporter": "python",
   "pygments_lexer": "ipython3",
   "version": "3.12.7"
  }
 },
 "nbformat": 4,
 "nbformat_minor": 2
}
